{
  "nbformat": 4,
  "nbformat_minor": 0,
  "metadata": {
    "colab": {
      "name": "Aggregate and tfrec for LSTM AE.ipynb",
      "provenance": [],
      "authorship_tag": "ABX9TyOPhFnw+wD5FSOmA1E7XoxX",
      "include_colab_link": true
    },
    "kernelspec": {
      "name": "python3",
      "display_name": "Python 3"
    }
  },
  "cells": [
    {
      "cell_type": "markdown",
      "metadata": {
        "id": "view-in-github",
        "colab_type": "text"
      },
      "source": [
        "<a href=\"https://colab.research.google.com/github/iankim20/MAIC-AI-Challenge_hypotension-prediction/blob/main/Aggregate_and_tfrec_for_LSTM_AE.ipynb\" target=\"_parent\"><img src=\"https://colab.research.google.com/assets/colab-badge.svg\" alt=\"Open In Colab\"/></a>"
      ]
    },
    {
      "cell_type": "code",
      "metadata": {
        "id": "4oSFcp7DDs6-",
        "colab": {
          "base_uri": "https://localhost:8080/",
          "height": 34
        },
        "outputId": "d5152143-d6b4-4156-faf3-1511d25e7af4"
      },
      "source": [
        "from google.colab import drive\n",
        "drive.mount('/content/drive/')"
      ],
      "execution_count": null,
      "outputs": [
        {
          "output_type": "stream",
          "text": [
            "Drive already mounted at /content/drive/; to attempt to forcibly remount, call drive.mount(\"/content/drive/\", force_remount=True).\n"
          ],
          "name": "stdout"
        }
      ]
    },
    {
      "cell_type": "code",
      "metadata": {
        "id": "R8v9rZb-DxQG",
        "colab": {
          "base_uri": "https://localhost:8080/",
          "height": 34
        },
        "outputId": "f87b12bc-459d-4f11-f7f7-5c57dd0b3ad2"
      },
      "source": [
        "%cd \"/content/drive/My Drive/MAIC_data\""
      ],
      "execution_count": null,
      "outputs": [
        {
          "output_type": "stream",
          "text": [
            "/content/drive/My Drive/MAIC_data\n"
          ],
          "name": "stdout"
        }
      ]
    },
    {
      "cell_type": "code",
      "metadata": {
        "id": "nm4xe_5nNFkI"
      },
      "source": [
        "%matplotlib inline\n",
        "import matplotlib.pyplot as plt\n",
        "import seaborn as sns\n",
        "import random as random\n",
        "\n",
        "import pandas as pd\n",
        "import numpy as np\n",
        "from pylab import rcParams\n",
        "\n",
        "import tensorflow as tf\n",
        "from keras import optimizers, Sequential\n",
        "from keras.models import Model\n",
        "from keras.utils import plot_model\n",
        "from keras.layers import Dense, LSTM, RepeatVector, TimeDistributed\n",
        "from keras.callbacks import ModelCheckpoint, TensorBoard\n",
        "\n",
        "from sklearn.preprocessing import StandardScaler\n",
        "from sklearn.model_selection import train_test_split\n",
        "from sklearn.metrics import confusion_matrix, precision_recall_curve\n",
        "from sklearn.metrics import recall_score, classification_report, auc, roc_curve\n",
        "from sklearn.metrics import precision_recall_fscore_support, f1_score"
      ],
      "execution_count": null,
      "outputs": []
    },
    {
      "cell_type": "code",
      "metadata": {
        "id": "AqYyXYFx7A_0"
      },
      "source": [
        "import gc\n",
        "import os, sys, math\n",
        "\n",
        "# Three types of data can be stored in TFRecords: bytestrings, integers and floats\n",
        "# They are always stored as lists, a single data element will be a list of size 1\n",
        "def _bytestring_feature(list_of_bytestrings):\n",
        "    return tf.train.Feature(bytes_list=tf.train.BytesList(value=list_of_bytestrings))\n",
        "\n",
        "def _int_feature(list_of_ints): # int64\n",
        "    return tf.train.Feature(int64_list=tf.train.Int64List(value=list_of_ints))\n",
        "\n",
        "def _float_feature(list_of_floats): # float32\n",
        "    return tf.train.Feature(float_list=tf.train.FloatList(value=list_of_floats))\n",
        "  \n",
        "\n",
        "def to_tfrecord(tfrec_filewriter, bp, event):  \n",
        "#     class_num = np.argmax(np.array(CLASSES)==label) # 'roses' => 2 (order defined in CLASSES)\n",
        "#     one_hot_class = np.eye(len(CLASSES))[class_num]     # [0, 0, 1, 0, 0] for class #2, roses\n",
        "\n",
        "    feature = {\n",
        "        \"bp\": _float_feature(bp.numpy().tolist()), # one image in the list\n",
        "#       \"class\": _int_feature([class_num]),        # one class in the list\n",
        "\n",
        "      # additional (not very useful) fields to demonstrate TFRecord writing/reading of different types of data\n",
        "        \"event\":         _float_feature(event.numpy().tolist()),          # fixed length (1) list of strings, the text label\n",
        "#       \"size\":          _int_feature([height, width]),         # fixed length (2) list of ints\n",
        "#       \"one_hot_class\": _float_feature(one_hot_class.tolist()) # variable length  list of floats, n=len(CLASSES)\n",
        "    }\n",
        "    return tf.train.Example(features=tf.train.Features(feature=feature))"
      ],
      "execution_count": null,
      "outputs": []
    },
    {
      "cell_type": "code",
      "metadata": {
        "id": "pYAeoElypibJ",
        "colab": {
          "base_uri": "https://localhost:8080/",
          "height": 1000
        },
        "outputId": "693da616-7b63-4597-cac4-4d22a649e07f"
      },
      "source": [
        "index=np.array([500,1000,1500,2000,2500,3000])  ## index=0 인 x_train은 validation의 nonevent로 사용할 것임!! (20만개 nonevent for validation set)\n",
        "# x_train_full=np.load('processed_data/x_train_nonevent_3000.npz')['arr_0']\n",
        "for val in index:\n",
        "    tmp_x = np.load('processed_data/x_train_nonevent_{}.npz'.format(val))['arr_0']\n",
        "    tmp_y = np.load('processed_data/y_train_nonevent_{}.npz'.format(val))['arr_0']\n",
        "    tmp_y = tmp_y*1\n",
        "\n",
        "    idx = np.random.permutation(len(tmp_x))\n",
        "\n",
        "    x_train_patch = tmp_x[idx][:,5:]\n",
        "    y_train_patch = tmp_y[idx]\n",
        "    y_train_patch = y_train_patch[...,None]    \n",
        "\n",
        "    x_train_patch -= 20\n",
        "    x_train_patch /= 180\n",
        "\n",
        "    train_dataset = tf.data.Dataset.from_tensor_slices((x_train_patch, y_train_patch))\n",
        "    \n",
        "    # print(\"Tensorflow version \" + tf.__version__)\n",
        "    AUTO = tf.data.experimental.AUTOTUNE # used in tf.data.Dataset API\n",
        "\n",
        "    SHARDS = 40\n",
        "    shard_size = math.ceil(1.0 * len(train_dataset) / SHARDS)\n",
        "\n",
        "    train_dataset2 = train_dataset.batch(shard_size) # sharding: there will be one \"batch\" of images per file \n",
        "      \n",
        "    print(\"Writing TFRecords\")\n",
        "    for shard, (bp, event) in enumerate(train_dataset2):\n",
        "        # batch size used as shard size here\n",
        "        shard_size = bp.shape[0]\n",
        "        # good practice to have the number of records in the filename\n",
        "        filename = \"processed_data/tfrec/train_nonevent_\"+\"{:02d}_{:02d}-{}.tfrec\".format(int(val/500),shard, shard_size)\n",
        "\n",
        "        with tf.io.TFRecordWriter(filename) as out_file:\n",
        "            for i in range(shard_size):\n",
        "                example = to_tfrecord(out_file,\n",
        "                                      bp[i], # re-compressed image: already a byte string\n",
        "                                      event[i])\n",
        "                out_file.write(example.SerializeToString())\n",
        "            print(\"Wrote file {} containing {} records\".format(filename, shard_size))\n",
        "\n",
        "    # x_train_full=np.concatenate((x_train_full,tmp_x),axis=0)\n",
        "    print(\"now x at %s\"% val)\n",
        "    gc.collect()"
      ],
      "execution_count": null,
      "outputs": [
        {
          "output_type": "stream",
          "text": [
            "Writing TFRecords\n",
            "Wrote file processed_data/tfrec/train_nonevent_01_00-5403.tfrec containing 5403 records\n",
            "Wrote file processed_data/tfrec/train_nonevent_01_01-5403.tfrec containing 5403 records\n",
            "Wrote file processed_data/tfrec/train_nonevent_01_02-5403.tfrec containing 5403 records\n",
            "Wrote file processed_data/tfrec/train_nonevent_01_03-5403.tfrec containing 5403 records\n",
            "Wrote file processed_data/tfrec/train_nonevent_01_04-5403.tfrec containing 5403 records\n",
            "Wrote file processed_data/tfrec/train_nonevent_01_05-5403.tfrec containing 5403 records\n",
            "Wrote file processed_data/tfrec/train_nonevent_01_06-5403.tfrec containing 5403 records\n",
            "Wrote file processed_data/tfrec/train_nonevent_01_07-5403.tfrec containing 5403 records\n",
            "Wrote file processed_data/tfrec/train_nonevent_01_08-5403.tfrec containing 5403 records\n",
            "Wrote file processed_data/tfrec/train_nonevent_01_09-5403.tfrec containing 5403 records\n",
            "Wrote file processed_data/tfrec/train_nonevent_01_10-5403.tfrec containing 5403 records\n",
            "Wrote file processed_data/tfrec/train_nonevent_01_11-5403.tfrec containing 5403 records\n",
            "Wrote file processed_data/tfrec/train_nonevent_01_12-5403.tfrec containing 5403 records\n",
            "Wrote file processed_data/tfrec/train_nonevent_01_13-5403.tfrec containing 5403 records\n",
            "Wrote file processed_data/tfrec/train_nonevent_01_14-5403.tfrec containing 5403 records\n",
            "Wrote file processed_data/tfrec/train_nonevent_01_15-5403.tfrec containing 5403 records\n",
            "Wrote file processed_data/tfrec/train_nonevent_01_16-5403.tfrec containing 5403 records\n",
            "Wrote file processed_data/tfrec/train_nonevent_01_17-5403.tfrec containing 5403 records\n",
            "Wrote file processed_data/tfrec/train_nonevent_01_18-5403.tfrec containing 5403 records\n",
            "Wrote file processed_data/tfrec/train_nonevent_01_19-5403.tfrec containing 5403 records\n",
            "Wrote file processed_data/tfrec/train_nonevent_01_20-5403.tfrec containing 5403 records\n",
            "Wrote file processed_data/tfrec/train_nonevent_01_21-5403.tfrec containing 5403 records\n",
            "Wrote file processed_data/tfrec/train_nonevent_01_22-5403.tfrec containing 5403 records\n",
            "Wrote file processed_data/tfrec/train_nonevent_01_23-5403.tfrec containing 5403 records\n",
            "Wrote file processed_data/tfrec/train_nonevent_01_24-5403.tfrec containing 5403 records\n",
            "Wrote file processed_data/tfrec/train_nonevent_01_25-5403.tfrec containing 5403 records\n",
            "Wrote file processed_data/tfrec/train_nonevent_01_26-5403.tfrec containing 5403 records\n",
            "Wrote file processed_data/tfrec/train_nonevent_01_27-5403.tfrec containing 5403 records\n",
            "Wrote file processed_data/tfrec/train_nonevent_01_28-5403.tfrec containing 5403 records\n",
            "Wrote file processed_data/tfrec/train_nonevent_01_29-5403.tfrec containing 5403 records\n",
            "Wrote file processed_data/tfrec/train_nonevent_01_30-5403.tfrec containing 5403 records\n",
            "Wrote file processed_data/tfrec/train_nonevent_01_31-5403.tfrec containing 5403 records\n",
            "Wrote file processed_data/tfrec/train_nonevent_01_32-5403.tfrec containing 5403 records\n",
            "Wrote file processed_data/tfrec/train_nonevent_01_33-5403.tfrec containing 5403 records\n",
            "Wrote file processed_data/tfrec/train_nonevent_01_34-5403.tfrec containing 5403 records\n",
            "Wrote file processed_data/tfrec/train_nonevent_01_35-5403.tfrec containing 5403 records\n",
            "Wrote file processed_data/tfrec/train_nonevent_01_36-5403.tfrec containing 5403 records\n",
            "Wrote file processed_data/tfrec/train_nonevent_01_37-5403.tfrec containing 5403 records\n",
            "Wrote file processed_data/tfrec/train_nonevent_01_38-5403.tfrec containing 5403 records\n",
            "Wrote file processed_data/tfrec/train_nonevent_01_39-5392.tfrec containing 5392 records\n",
            "now x at 500\n",
            "Writing TFRecords\n",
            "Wrote file processed_data/tfrec/train_nonevent_02_00-5034.tfrec containing 5034 records\n",
            "Wrote file processed_data/tfrec/train_nonevent_02_01-5034.tfrec containing 5034 records\n",
            "Wrote file processed_data/tfrec/train_nonevent_02_02-5034.tfrec containing 5034 records\n",
            "Wrote file processed_data/tfrec/train_nonevent_02_03-5034.tfrec containing 5034 records\n",
            "Wrote file processed_data/tfrec/train_nonevent_02_04-5034.tfrec containing 5034 records\n",
            "Wrote file processed_data/tfrec/train_nonevent_02_05-5034.tfrec containing 5034 records\n",
            "Wrote file processed_data/tfrec/train_nonevent_02_06-5034.tfrec containing 5034 records\n",
            "Wrote file processed_data/tfrec/train_nonevent_02_07-5034.tfrec containing 5034 records\n",
            "Wrote file processed_data/tfrec/train_nonevent_02_08-5034.tfrec containing 5034 records\n",
            "Wrote file processed_data/tfrec/train_nonevent_02_09-5034.tfrec containing 5034 records\n",
            "Wrote file processed_data/tfrec/train_nonevent_02_10-5034.tfrec containing 5034 records\n",
            "Wrote file processed_data/tfrec/train_nonevent_02_11-5034.tfrec containing 5034 records\n",
            "Wrote file processed_data/tfrec/train_nonevent_02_12-5034.tfrec containing 5034 records\n",
            "Wrote file processed_data/tfrec/train_nonevent_02_13-5034.tfrec containing 5034 records\n",
            "Wrote file processed_data/tfrec/train_nonevent_02_14-5034.tfrec containing 5034 records\n",
            "Wrote file processed_data/tfrec/train_nonevent_02_15-5034.tfrec containing 5034 records\n",
            "Wrote file processed_data/tfrec/train_nonevent_02_16-5034.tfrec containing 5034 records\n",
            "Wrote file processed_data/tfrec/train_nonevent_02_17-5034.tfrec containing 5034 records\n",
            "Wrote file processed_data/tfrec/train_nonevent_02_18-5034.tfrec containing 5034 records\n",
            "Wrote file processed_data/tfrec/train_nonevent_02_19-5034.tfrec containing 5034 records\n",
            "Wrote file processed_data/tfrec/train_nonevent_02_20-5034.tfrec containing 5034 records\n",
            "Wrote file processed_data/tfrec/train_nonevent_02_21-5034.tfrec containing 5034 records\n",
            "Wrote file processed_data/tfrec/train_nonevent_02_22-5034.tfrec containing 5034 records\n",
            "Wrote file processed_data/tfrec/train_nonevent_02_23-5034.tfrec containing 5034 records\n",
            "Wrote file processed_data/tfrec/train_nonevent_02_24-5034.tfrec containing 5034 records\n",
            "Wrote file processed_data/tfrec/train_nonevent_02_25-5034.tfrec containing 5034 records\n",
            "Wrote file processed_data/tfrec/train_nonevent_02_26-5034.tfrec containing 5034 records\n",
            "Wrote file processed_data/tfrec/train_nonevent_02_27-5034.tfrec containing 5034 records\n",
            "Wrote file processed_data/tfrec/train_nonevent_02_28-5034.tfrec containing 5034 records\n",
            "Wrote file processed_data/tfrec/train_nonevent_02_29-5034.tfrec containing 5034 records\n",
            "Wrote file processed_data/tfrec/train_nonevent_02_30-5034.tfrec containing 5034 records\n",
            "Wrote file processed_data/tfrec/train_nonevent_02_31-5034.tfrec containing 5034 records\n",
            "Wrote file processed_data/tfrec/train_nonevent_02_32-5034.tfrec containing 5034 records\n",
            "Wrote file processed_data/tfrec/train_nonevent_02_33-5034.tfrec containing 5034 records\n",
            "Wrote file processed_data/tfrec/train_nonevent_02_34-5034.tfrec containing 5034 records\n",
            "Wrote file processed_data/tfrec/train_nonevent_02_35-5034.tfrec containing 5034 records\n",
            "Wrote file processed_data/tfrec/train_nonevent_02_36-5034.tfrec containing 5034 records\n",
            "Wrote file processed_data/tfrec/train_nonevent_02_37-5034.tfrec containing 5034 records\n",
            "Wrote file processed_data/tfrec/train_nonevent_02_38-5034.tfrec containing 5034 records\n",
            "Wrote file processed_data/tfrec/train_nonevent_02_39-5002.tfrec containing 5002 records\n",
            "now x at 1000\n",
            "Writing TFRecords\n",
            "Wrote file processed_data/tfrec/train_nonevent_03_00-5291.tfrec containing 5291 records\n",
            "Wrote file processed_data/tfrec/train_nonevent_03_01-5291.tfrec containing 5291 records\n",
            "Wrote file processed_data/tfrec/train_nonevent_03_02-5291.tfrec containing 5291 records\n",
            "Wrote file processed_data/tfrec/train_nonevent_03_03-5291.tfrec containing 5291 records\n",
            "Wrote file processed_data/tfrec/train_nonevent_03_04-5291.tfrec containing 5291 records\n",
            "Wrote file processed_data/tfrec/train_nonevent_03_05-5291.tfrec containing 5291 records\n",
            "Wrote file processed_data/tfrec/train_nonevent_03_06-5291.tfrec containing 5291 records\n",
            "Wrote file processed_data/tfrec/train_nonevent_03_07-5291.tfrec containing 5291 records\n",
            "Wrote file processed_data/tfrec/train_nonevent_03_08-5291.tfrec containing 5291 records\n",
            "Wrote file processed_data/tfrec/train_nonevent_03_09-5291.tfrec containing 5291 records\n",
            "Wrote file processed_data/tfrec/train_nonevent_03_10-5291.tfrec containing 5291 records\n",
            "Wrote file processed_data/tfrec/train_nonevent_03_11-5291.tfrec containing 5291 records\n",
            "Wrote file processed_data/tfrec/train_nonevent_03_12-5291.tfrec containing 5291 records\n",
            "Wrote file processed_data/tfrec/train_nonevent_03_13-5291.tfrec containing 5291 records\n",
            "Wrote file processed_data/tfrec/train_nonevent_03_14-5291.tfrec containing 5291 records\n",
            "Wrote file processed_data/tfrec/train_nonevent_03_15-5291.tfrec containing 5291 records\n",
            "Wrote file processed_data/tfrec/train_nonevent_03_16-5291.tfrec containing 5291 records\n",
            "Wrote file processed_data/tfrec/train_nonevent_03_17-5291.tfrec containing 5291 records\n",
            "Wrote file processed_data/tfrec/train_nonevent_03_18-5291.tfrec containing 5291 records\n",
            "Wrote file processed_data/tfrec/train_nonevent_03_19-5291.tfrec containing 5291 records\n",
            "Wrote file processed_data/tfrec/train_nonevent_03_20-5291.tfrec containing 5291 records\n",
            "Wrote file processed_data/tfrec/train_nonevent_03_21-5291.tfrec containing 5291 records\n",
            "Wrote file processed_data/tfrec/train_nonevent_03_22-5291.tfrec containing 5291 records\n",
            "Wrote file processed_data/tfrec/train_nonevent_03_23-5291.tfrec containing 5291 records\n",
            "Wrote file processed_data/tfrec/train_nonevent_03_24-5291.tfrec containing 5291 records\n",
            "Wrote file processed_data/tfrec/train_nonevent_03_25-5291.tfrec containing 5291 records\n",
            "Wrote file processed_data/tfrec/train_nonevent_03_26-5291.tfrec containing 5291 records\n",
            "Wrote file processed_data/tfrec/train_nonevent_03_27-5291.tfrec containing 5291 records\n",
            "Wrote file processed_data/tfrec/train_nonevent_03_28-5291.tfrec containing 5291 records\n",
            "Wrote file processed_data/tfrec/train_nonevent_03_29-5291.tfrec containing 5291 records\n",
            "Wrote file processed_data/tfrec/train_nonevent_03_30-5291.tfrec containing 5291 records\n",
            "Wrote file processed_data/tfrec/train_nonevent_03_31-5291.tfrec containing 5291 records\n",
            "Wrote file processed_data/tfrec/train_nonevent_03_32-5291.tfrec containing 5291 records\n",
            "Wrote file processed_data/tfrec/train_nonevent_03_33-5291.tfrec containing 5291 records\n",
            "Wrote file processed_data/tfrec/train_nonevent_03_34-5291.tfrec containing 5291 records\n",
            "Wrote file processed_data/tfrec/train_nonevent_03_35-5291.tfrec containing 5291 records\n",
            "Wrote file processed_data/tfrec/train_nonevent_03_36-5291.tfrec containing 5291 records\n",
            "Wrote file processed_data/tfrec/train_nonevent_03_37-5291.tfrec containing 5291 records\n",
            "Wrote file processed_data/tfrec/train_nonevent_03_38-5291.tfrec containing 5291 records\n",
            "Wrote file processed_data/tfrec/train_nonevent_03_39-5257.tfrec containing 5257 records\n",
            "now x at 1500\n",
            "Writing TFRecords\n",
            "Wrote file processed_data/tfrec/train_nonevent_04_00-5399.tfrec containing 5399 records\n",
            "Wrote file processed_data/tfrec/train_nonevent_04_01-5399.tfrec containing 5399 records\n",
            "Wrote file processed_data/tfrec/train_nonevent_04_02-5399.tfrec containing 5399 records\n",
            "Wrote file processed_data/tfrec/train_nonevent_04_03-5399.tfrec containing 5399 records\n",
            "Wrote file processed_data/tfrec/train_nonevent_04_04-5399.tfrec containing 5399 records\n",
            "Wrote file processed_data/tfrec/train_nonevent_04_05-5399.tfrec containing 5399 records\n",
            "Wrote file processed_data/tfrec/train_nonevent_04_06-5399.tfrec containing 5399 records\n",
            "Wrote file processed_data/tfrec/train_nonevent_04_07-5399.tfrec containing 5399 records\n",
            "Wrote file processed_data/tfrec/train_nonevent_04_08-5399.tfrec containing 5399 records\n",
            "Wrote file processed_data/tfrec/train_nonevent_04_09-5399.tfrec containing 5399 records\n",
            "Wrote file processed_data/tfrec/train_nonevent_04_10-5399.tfrec containing 5399 records\n",
            "Wrote file processed_data/tfrec/train_nonevent_04_11-5399.tfrec containing 5399 records\n",
            "Wrote file processed_data/tfrec/train_nonevent_04_12-5399.tfrec containing 5399 records\n",
            "Wrote file processed_data/tfrec/train_nonevent_04_13-5399.tfrec containing 5399 records\n",
            "Wrote file processed_data/tfrec/train_nonevent_04_14-5399.tfrec containing 5399 records\n",
            "Wrote file processed_data/tfrec/train_nonevent_04_15-5399.tfrec containing 5399 records\n",
            "Wrote file processed_data/tfrec/train_nonevent_04_16-5399.tfrec containing 5399 records\n",
            "Wrote file processed_data/tfrec/train_nonevent_04_17-5399.tfrec containing 5399 records\n",
            "Wrote file processed_data/tfrec/train_nonevent_04_18-5399.tfrec containing 5399 records\n",
            "Wrote file processed_data/tfrec/train_nonevent_04_19-5399.tfrec containing 5399 records\n",
            "Wrote file processed_data/tfrec/train_nonevent_04_20-5399.tfrec containing 5399 records\n",
            "Wrote file processed_data/tfrec/train_nonevent_04_21-5399.tfrec containing 5399 records\n",
            "Wrote file processed_data/tfrec/train_nonevent_04_22-5399.tfrec containing 5399 records\n",
            "Wrote file processed_data/tfrec/train_nonevent_04_23-5399.tfrec containing 5399 records\n",
            "Wrote file processed_data/tfrec/train_nonevent_04_24-5399.tfrec containing 5399 records\n",
            "Wrote file processed_data/tfrec/train_nonevent_04_25-5399.tfrec containing 5399 records\n",
            "Wrote file processed_data/tfrec/train_nonevent_04_26-5399.tfrec containing 5399 records\n",
            "Wrote file processed_data/tfrec/train_nonevent_04_27-5399.tfrec containing 5399 records\n",
            "Wrote file processed_data/tfrec/train_nonevent_04_28-5399.tfrec containing 5399 records\n",
            "Wrote file processed_data/tfrec/train_nonevent_04_29-5399.tfrec containing 5399 records\n",
            "Wrote file processed_data/tfrec/train_nonevent_04_30-5399.tfrec containing 5399 records\n",
            "Wrote file processed_data/tfrec/train_nonevent_04_31-5399.tfrec containing 5399 records\n",
            "Wrote file processed_data/tfrec/train_nonevent_04_32-5399.tfrec containing 5399 records\n",
            "Wrote file processed_data/tfrec/train_nonevent_04_33-5399.tfrec containing 5399 records\n",
            "Wrote file processed_data/tfrec/train_nonevent_04_34-5399.tfrec containing 5399 records\n",
            "Wrote file processed_data/tfrec/train_nonevent_04_35-5399.tfrec containing 5399 records\n",
            "Wrote file processed_data/tfrec/train_nonevent_04_36-5399.tfrec containing 5399 records\n",
            "Wrote file processed_data/tfrec/train_nonevent_04_37-5399.tfrec containing 5399 records\n",
            "Wrote file processed_data/tfrec/train_nonevent_04_38-5399.tfrec containing 5399 records\n",
            "Wrote file processed_data/tfrec/train_nonevent_04_39-5367.tfrec containing 5367 records\n",
            "now x at 2000\n",
            "Writing TFRecords\n",
            "Wrote file processed_data/tfrec/train_nonevent_05_00-5475.tfrec containing 5475 records\n",
            "Wrote file processed_data/tfrec/train_nonevent_05_01-5475.tfrec containing 5475 records\n",
            "Wrote file processed_data/tfrec/train_nonevent_05_02-5475.tfrec containing 5475 records\n",
            "Wrote file processed_data/tfrec/train_nonevent_05_03-5475.tfrec containing 5475 records\n",
            "Wrote file processed_data/tfrec/train_nonevent_05_04-5475.tfrec containing 5475 records\n",
            "Wrote file processed_data/tfrec/train_nonevent_05_05-5475.tfrec containing 5475 records\n",
            "Wrote file processed_data/tfrec/train_nonevent_05_06-5475.tfrec containing 5475 records\n",
            "Wrote file processed_data/tfrec/train_nonevent_05_07-5475.tfrec containing 5475 records\n",
            "Wrote file processed_data/tfrec/train_nonevent_05_08-5475.tfrec containing 5475 records\n",
            "Wrote file processed_data/tfrec/train_nonevent_05_09-5475.tfrec containing 5475 records\n",
            "Wrote file processed_data/tfrec/train_nonevent_05_10-5475.tfrec containing 5475 records\n",
            "Wrote file processed_data/tfrec/train_nonevent_05_11-5475.tfrec containing 5475 records\n",
            "Wrote file processed_data/tfrec/train_nonevent_05_12-5475.tfrec containing 5475 records\n",
            "Wrote file processed_data/tfrec/train_nonevent_05_13-5475.tfrec containing 5475 records\n",
            "Wrote file processed_data/tfrec/train_nonevent_05_14-5475.tfrec containing 5475 records\n",
            "Wrote file processed_data/tfrec/train_nonevent_05_15-5475.tfrec containing 5475 records\n",
            "Wrote file processed_data/tfrec/train_nonevent_05_16-5475.tfrec containing 5475 records\n",
            "Wrote file processed_data/tfrec/train_nonevent_05_17-5475.tfrec containing 5475 records\n",
            "Wrote file processed_data/tfrec/train_nonevent_05_18-5475.tfrec containing 5475 records\n",
            "Wrote file processed_data/tfrec/train_nonevent_05_19-5475.tfrec containing 5475 records\n",
            "Wrote file processed_data/tfrec/train_nonevent_05_20-5475.tfrec containing 5475 records\n",
            "Wrote file processed_data/tfrec/train_nonevent_05_21-5475.tfrec containing 5475 records\n",
            "Wrote file processed_data/tfrec/train_nonevent_05_22-5475.tfrec containing 5475 records\n",
            "Wrote file processed_data/tfrec/train_nonevent_05_23-5475.tfrec containing 5475 records\n",
            "Wrote file processed_data/tfrec/train_nonevent_05_24-5475.tfrec containing 5475 records\n",
            "Wrote file processed_data/tfrec/train_nonevent_05_25-5475.tfrec containing 5475 records\n",
            "Wrote file processed_data/tfrec/train_nonevent_05_26-5475.tfrec containing 5475 records\n",
            "Wrote file processed_data/tfrec/train_nonevent_05_27-5475.tfrec containing 5475 records\n",
            "Wrote file processed_data/tfrec/train_nonevent_05_28-5475.tfrec containing 5475 records\n",
            "Wrote file processed_data/tfrec/train_nonevent_05_29-5475.tfrec containing 5475 records\n",
            "Wrote file processed_data/tfrec/train_nonevent_05_30-5475.tfrec containing 5475 records\n",
            "Wrote file processed_data/tfrec/train_nonevent_05_31-5475.tfrec containing 5475 records\n",
            "Wrote file processed_data/tfrec/train_nonevent_05_32-5475.tfrec containing 5475 records\n",
            "Wrote file processed_data/tfrec/train_nonevent_05_33-5475.tfrec containing 5475 records\n",
            "Wrote file processed_data/tfrec/train_nonevent_05_34-5475.tfrec containing 5475 records\n",
            "Wrote file processed_data/tfrec/train_nonevent_05_35-5475.tfrec containing 5475 records\n",
            "Wrote file processed_data/tfrec/train_nonevent_05_36-5475.tfrec containing 5475 records\n",
            "Wrote file processed_data/tfrec/train_nonevent_05_37-5475.tfrec containing 5475 records\n",
            "Wrote file processed_data/tfrec/train_nonevent_05_38-5475.tfrec containing 5475 records\n",
            "Wrote file processed_data/tfrec/train_nonevent_05_39-5461.tfrec containing 5461 records\n",
            "now x at 2500\n",
            "Writing TFRecords\n",
            "Wrote file processed_data/tfrec/train_nonevent_06_00-2804.tfrec containing 2804 records\n",
            "Wrote file processed_data/tfrec/train_nonevent_06_01-2804.tfrec containing 2804 records\n",
            "Wrote file processed_data/tfrec/train_nonevent_06_02-2804.tfrec containing 2804 records\n",
            "Wrote file processed_data/tfrec/train_nonevent_06_03-2804.tfrec containing 2804 records\n",
            "Wrote file processed_data/tfrec/train_nonevent_06_04-2804.tfrec containing 2804 records\n",
            "Wrote file processed_data/tfrec/train_nonevent_06_05-2804.tfrec containing 2804 records\n",
            "Wrote file processed_data/tfrec/train_nonevent_06_06-2804.tfrec containing 2804 records\n",
            "Wrote file processed_data/tfrec/train_nonevent_06_07-2804.tfrec containing 2804 records\n",
            "Wrote file processed_data/tfrec/train_nonevent_06_08-2804.tfrec containing 2804 records\n",
            "Wrote file processed_data/tfrec/train_nonevent_06_09-2804.tfrec containing 2804 records\n",
            "Wrote file processed_data/tfrec/train_nonevent_06_10-2804.tfrec containing 2804 records\n",
            "Wrote file processed_data/tfrec/train_nonevent_06_11-2804.tfrec containing 2804 records\n",
            "Wrote file processed_data/tfrec/train_nonevent_06_12-2804.tfrec containing 2804 records\n",
            "Wrote file processed_data/tfrec/train_nonevent_06_13-2804.tfrec containing 2804 records\n",
            "Wrote file processed_data/tfrec/train_nonevent_06_14-2804.tfrec containing 2804 records\n",
            "Wrote file processed_data/tfrec/train_nonevent_06_15-2804.tfrec containing 2804 records\n",
            "Wrote file processed_data/tfrec/train_nonevent_06_16-2804.tfrec containing 2804 records\n",
            "Wrote file processed_data/tfrec/train_nonevent_06_17-2804.tfrec containing 2804 records\n",
            "Wrote file processed_data/tfrec/train_nonevent_06_18-2804.tfrec containing 2804 records\n",
            "Wrote file processed_data/tfrec/train_nonevent_06_19-2804.tfrec containing 2804 records\n",
            "Wrote file processed_data/tfrec/train_nonevent_06_20-2804.tfrec containing 2804 records\n",
            "Wrote file processed_data/tfrec/train_nonevent_06_21-2804.tfrec containing 2804 records\n",
            "Wrote file processed_data/tfrec/train_nonevent_06_22-2804.tfrec containing 2804 records\n",
            "Wrote file processed_data/tfrec/train_nonevent_06_23-2804.tfrec containing 2804 records\n",
            "Wrote file processed_data/tfrec/train_nonevent_06_24-2804.tfrec containing 2804 records\n",
            "Wrote file processed_data/tfrec/train_nonevent_06_25-2804.tfrec containing 2804 records\n",
            "Wrote file processed_data/tfrec/train_nonevent_06_26-2804.tfrec containing 2804 records\n",
            "Wrote file processed_data/tfrec/train_nonevent_06_27-2804.tfrec containing 2804 records\n",
            "Wrote file processed_data/tfrec/train_nonevent_06_28-2804.tfrec containing 2804 records\n",
            "Wrote file processed_data/tfrec/train_nonevent_06_29-2804.tfrec containing 2804 records\n",
            "Wrote file processed_data/tfrec/train_nonevent_06_30-2804.tfrec containing 2804 records\n",
            "Wrote file processed_data/tfrec/train_nonevent_06_31-2804.tfrec containing 2804 records\n",
            "Wrote file processed_data/tfrec/train_nonevent_06_32-2804.tfrec containing 2804 records\n",
            "Wrote file processed_data/tfrec/train_nonevent_06_33-2804.tfrec containing 2804 records\n",
            "Wrote file processed_data/tfrec/train_nonevent_06_34-2804.tfrec containing 2804 records\n",
            "Wrote file processed_data/tfrec/train_nonevent_06_35-2804.tfrec containing 2804 records\n",
            "Wrote file processed_data/tfrec/train_nonevent_06_36-2804.tfrec containing 2804 records\n",
            "Wrote file processed_data/tfrec/train_nonevent_06_37-2804.tfrec containing 2804 records\n",
            "Wrote file processed_data/tfrec/train_nonevent_06_38-2804.tfrec containing 2804 records\n",
            "Wrote file processed_data/tfrec/train_nonevent_06_39-2766.tfrec containing 2766 records\n",
            "now x at 3000\n"
          ],
          "name": "stdout"
        }
      ]
    },
    {
      "cell_type": "code",
      "metadata": {
        "id": "tSqGvYOkZcMr",
        "colab": {
          "base_uri": "https://localhost:8080/",
          "height": 34
        },
        "outputId": "e5bbee73-32e4-4a14-d031-6526993d8b0e"
      },
      "source": [
        "x_train_full.shape"
      ],
      "execution_count": null,
      "outputs": [
        {
          "output_type": "execute_result",
          "data": {
            "text/plain": [
              "(112122, 2005)"
            ]
          },
          "metadata": {
            "tags": []
          },
          "execution_count": 30
        }
      ]
    },
    {
      "cell_type": "code",
      "metadata": {
        "id": "AZbKSOpVpigZ"
      },
      "source": [
        "# y_train_full=[]\n",
        "# for val in index:\n",
        "#     tmp_y = np.load('/kaggle/input/0927-nonan-processed/y_train_{}.npz'.format(val))['arr_0']\n",
        "#     y_train_full=np.concatenate((y_train_full,tmp_y))\n",
        "#     print(\"now y at %s\"% val)\n",
        "    \n",
        "#     gc.collect()"
      ],
      "execution_count": null,
      "outputs": []
    },
    {
      "cell_type": "code",
      "metadata": {
        "id": "yVL9DWiW2TLu"
      },
      "source": [
        "x_val_nonevent = np.load('processed_data/x_train_nonevent_0.npz')['arr_0']\n",
        "y_val_nonevent = np.load('processed_data/y_train_nonevent_0.npz')['arr_0']\n",
        "y_val_nonevent = y_val_nonevent *1\n",
        "\n",
        "x_val_nonevent = x_val_nonevent[:,5:]\n",
        "\n",
        "x_val_nonevent -= 20\n",
        "x_val_nonevent /= 180\n"
      ],
      "execution_count": null,
      "outputs": []
    },
    {
      "cell_type": "code",
      "metadata": {
        "id": "Tp8Iuxt_FQqL",
        "colab": {
          "base_uri": "https://localhost:8080/",
          "height": 738
        },
        "outputId": "dfe8b175-2e25-4776-91ea-7ec23d894e68"
      },
      "source": [
        "y_val_nonevent = y_val_nonevent[...,None]\n",
        "val_nonevent_dataset = tf.data.Dataset.from_tensor_slices((x_val_nonevent, y_val_nonevent))\n",
        "\n",
        "# print(\"Tensorflow version \" + tf.__version__)\n",
        "AUTO = tf.data.experimental.AUTOTUNE # used in tf.data.Dataset API\n",
        "\n",
        "SHARDS = 40\n",
        "shard_size = math.ceil(1.0 * len(val_nonevent_dataset) / SHARDS)\n",
        "\n",
        "val_nonevent_dataset2 = val_nonevent_dataset.batch(shard_size) # sharding: there will be one \"batch\" of images per file \n",
        "  \n",
        "print(\"Writing TFRecords\")\n",
        "for shard, (bp, event) in enumerate(val_nonevent_dataset2):\n",
        "    # batch size used as shard size here\n",
        "    shard_size = bp.shape[0]\n",
        "    # good practice to have the number of records in the filename\n",
        "    filename = \"processed_data/tfrec/val_nonevent_\"+\"{:02d}-{}.tfrec\".format(shard, shard_size)\n",
        "\n",
        "    with tf.io.TFRecordWriter(filename) as out_file:\n",
        "        for i in range(shard_size):\n",
        "            example = to_tfrecord(out_file,\n",
        "                                  bp[i], # re-compressed image: already a byte string\n",
        "                                  event[i])\n",
        "            out_file.write(example.SerializeToString())\n",
        "        print(\"Wrote file {} containing {} records\".format(filename, shard_size))"
      ],
      "execution_count": null,
      "outputs": [
        {
          "output_type": "stream",
          "text": [
            "Writing TFRecords\n",
            "Wrote file processed_data/tfrec/val_nonevent_00-5227.tfrec containing 5227 records\n",
            "Wrote file processed_data/tfrec/val_nonevent_01-5227.tfrec containing 5227 records\n",
            "Wrote file processed_data/tfrec/val_nonevent_02-5227.tfrec containing 5227 records\n",
            "Wrote file processed_data/tfrec/val_nonevent_03-5227.tfrec containing 5227 records\n",
            "Wrote file processed_data/tfrec/val_nonevent_04-5227.tfrec containing 5227 records\n",
            "Wrote file processed_data/tfrec/val_nonevent_05-5227.tfrec containing 5227 records\n",
            "Wrote file processed_data/tfrec/val_nonevent_06-5227.tfrec containing 5227 records\n",
            "Wrote file processed_data/tfrec/val_nonevent_07-5227.tfrec containing 5227 records\n",
            "Wrote file processed_data/tfrec/val_nonevent_08-5227.tfrec containing 5227 records\n",
            "Wrote file processed_data/tfrec/val_nonevent_09-5227.tfrec containing 5227 records\n",
            "Wrote file processed_data/tfrec/val_nonevent_10-5227.tfrec containing 5227 records\n",
            "Wrote file processed_data/tfrec/val_nonevent_11-5227.tfrec containing 5227 records\n",
            "Wrote file processed_data/tfrec/val_nonevent_12-5227.tfrec containing 5227 records\n",
            "Wrote file processed_data/tfrec/val_nonevent_13-5227.tfrec containing 5227 records\n",
            "Wrote file processed_data/tfrec/val_nonevent_14-5227.tfrec containing 5227 records\n",
            "Wrote file processed_data/tfrec/val_nonevent_15-5227.tfrec containing 5227 records\n",
            "Wrote file processed_data/tfrec/val_nonevent_16-5227.tfrec containing 5227 records\n",
            "Wrote file processed_data/tfrec/val_nonevent_17-5227.tfrec containing 5227 records\n",
            "Wrote file processed_data/tfrec/val_nonevent_18-5227.tfrec containing 5227 records\n",
            "Wrote file processed_data/tfrec/val_nonevent_19-5227.tfrec containing 5227 records\n",
            "Wrote file processed_data/tfrec/val_nonevent_20-5227.tfrec containing 5227 records\n",
            "Wrote file processed_data/tfrec/val_nonevent_21-5227.tfrec containing 5227 records\n",
            "Wrote file processed_data/tfrec/val_nonevent_22-5227.tfrec containing 5227 records\n",
            "Wrote file processed_data/tfrec/val_nonevent_23-5227.tfrec containing 5227 records\n",
            "Wrote file processed_data/tfrec/val_nonevent_24-5227.tfrec containing 5227 records\n",
            "Wrote file processed_data/tfrec/val_nonevent_25-5227.tfrec containing 5227 records\n",
            "Wrote file processed_data/tfrec/val_nonevent_26-5227.tfrec containing 5227 records\n",
            "Wrote file processed_data/tfrec/val_nonevent_27-5227.tfrec containing 5227 records\n",
            "Wrote file processed_data/tfrec/val_nonevent_28-5227.tfrec containing 5227 records\n",
            "Wrote file processed_data/tfrec/val_nonevent_29-5227.tfrec containing 5227 records\n",
            "Wrote file processed_data/tfrec/val_nonevent_30-5227.tfrec containing 5227 records\n",
            "Wrote file processed_data/tfrec/val_nonevent_31-5227.tfrec containing 5227 records\n",
            "Wrote file processed_data/tfrec/val_nonevent_32-5227.tfrec containing 5227 records\n",
            "Wrote file processed_data/tfrec/val_nonevent_33-5227.tfrec containing 5227 records\n",
            "Wrote file processed_data/tfrec/val_nonevent_34-5227.tfrec containing 5227 records\n",
            "Wrote file processed_data/tfrec/val_nonevent_35-5227.tfrec containing 5227 records\n",
            "Wrote file processed_data/tfrec/val_nonevent_36-5227.tfrec containing 5227 records\n",
            "Wrote file processed_data/tfrec/val_nonevent_37-5227.tfrec containing 5227 records\n",
            "Wrote file processed_data/tfrec/val_nonevent_38-5227.tfrec containing 5227 records\n",
            "Wrote file processed_data/tfrec/val_nonevent_39-5193.tfrec containing 5193 records\n"
          ],
          "name": "stdout"
        }
      ]
    },
    {
      "cell_type": "code",
      "metadata": {
        "id": "2j--gMRC1PBp"
      },
      "source": [
        "# x_train_400000 = np.load('processed_data/x_train_full.npz')['arr_0']\n",
        "# y_train_400000 = np.load('processed_data/y_train_full.npz')['arr_0']"
      ],
      "execution_count": null,
      "outputs": []
    },
    {
      "cell_type": "code",
      "metadata": {
        "id": "80FEbVWI1PGO",
        "colab": {
          "base_uri": "https://localhost:8080/",
          "height": 34
        },
        "outputId": "4c8db58f-fea6-44f7-f424-7f3c52df0fcc"
      },
      "source": [
        "# x_val_event = x_train_400000[y_train_400000==1]\n",
        "# x_val_event = x_val_event[:,5:]\n",
        "\n",
        "# idx = np.random.permutation(len(x_val_event))\n",
        "# x_val_event_20000 = x_val_event[idx][:20000]\n",
        "\n",
        "# x_val_event_20000 -= 20\n",
        "# x_val_event_20000 /= 180\n",
        "\n",
        "# np.savez_compressed('processed_data/x_val_event_20000.npz', x_val_event_20000)\n",
        "\n",
        "# y_val_event = np.full((20000,),1)\n",
        "# y_val_nonevent = y_val_nonevent *1"
      ],
      "execution_count": null,
      "outputs": [
        {
          "output_type": "execute_result",
          "data": {
            "text/plain": [
              "array([1, 1, 1, ..., 1, 1, 1])"
            ]
          },
          "metadata": {
            "tags": []
          },
          "execution_count": 19
        }
      ]
    },
    {
      "cell_type": "code",
      "metadata": {
        "id": "YfTgFtqi98yB"
      },
      "source": [
        "x_val_event_20000 = np.load('processed_data/x_val_event_20000.npz')['arr_0']\n",
        "\n",
        "y_val_event = np.full((20000,),1)\n",
        "y_val_nonevent = y_val_nonevent *1"
      ],
      "execution_count": null,
      "outputs": []
    },
    {
      "cell_type": "code",
      "metadata": {
        "id": "KvJUnH8S1PD3",
        "colab": {
          "base_uri": "https://localhost:8080/",
          "height": 52
        },
        "outputId": "51ca27d8-098d-4875-f492-9847448e323b"
      },
      "source": [
        "x_val = np.vstack((x_val_nonevent,x_val_event_20000))\n",
        "y_val = np.hstack((y_val_nonevent,y_val_event))\n",
        "y_val = y_val[...,None]\n",
        "\n",
        "print(x_val.shape)\n",
        "print(y_val.shape)"
      ],
      "execution_count": null,
      "outputs": [
        {
          "output_type": "stream",
          "text": [
            "(229046, 2000)\n",
            "(229046, 1)\n"
          ],
          "name": "stdout"
        }
      ]
    },
    {
      "cell_type": "code",
      "metadata": {
        "id": "WHBJ3hWEpidj",
        "colab": {
          "base_uri": "https://localhost:8080/",
          "height": 738
        },
        "outputId": "612c7a8a-66e7-43cc-fb2a-539d5c7b2994"
      },
      "source": [
        "val_dataset = tf.data.Dataset.from_tensor_slices((x_val, y_val))\n",
        "\n",
        "# print(\"Tensorflow version \" + tf.__version__)\n",
        "AUTO = tf.data.experimental.AUTOTUNE # used in tf.data.Dataset API\n",
        "\n",
        "SHARDS = 40\n",
        "shard_size = math.ceil(1.0 * len(val_dataset) / SHARDS)\n",
        "\n",
        "val_dataset2 = val_dataset.batch(shard_size) # sharding: there will be one \"batch\" of images per file \n",
        "  \n",
        "print(\"Writing TFRecords\")\n",
        "for shard, (bp, event) in enumerate(val_dataset2):\n",
        "    # batch size used as shard size here\n",
        "    shard_size = bp.shape[0]\n",
        "    # good practice to have the number of records in the filename\n",
        "    filename = \"processed_data/tfrec/val_\"+\"{:02d}-{}.tfrec\".format(shard, shard_size)\n",
        "\n",
        "    with tf.io.TFRecordWriter(filename) as out_file:\n",
        "        for i in range(shard_size):\n",
        "            example = to_tfrecord(out_file,\n",
        "                                  bp[i], # re-compressed image: already a byte string\n",
        "                                  event[i])\n",
        "            out_file.write(example.SerializeToString())\n",
        "        print(\"Wrote file {} containing {} records\".format(filename, shard_size))"
      ],
      "execution_count": null,
      "outputs": [
        {
          "output_type": "stream",
          "text": [
            "Writing TFRecords\n",
            "Wrote file processed_data/tfrec/val_00-5727.tfrec containing 5727 records\n",
            "Wrote file processed_data/tfrec/val_01-5727.tfrec containing 5727 records\n",
            "Wrote file processed_data/tfrec/val_02-5727.tfrec containing 5727 records\n",
            "Wrote file processed_data/tfrec/val_03-5727.tfrec containing 5727 records\n",
            "Wrote file processed_data/tfrec/val_04-5727.tfrec containing 5727 records\n",
            "Wrote file processed_data/tfrec/val_05-5727.tfrec containing 5727 records\n",
            "Wrote file processed_data/tfrec/val_06-5727.tfrec containing 5727 records\n",
            "Wrote file processed_data/tfrec/val_07-5727.tfrec containing 5727 records\n",
            "Wrote file processed_data/tfrec/val_08-5727.tfrec containing 5727 records\n",
            "Wrote file processed_data/tfrec/val_09-5727.tfrec containing 5727 records\n",
            "Wrote file processed_data/tfrec/val_10-5727.tfrec containing 5727 records\n",
            "Wrote file processed_data/tfrec/val_11-5727.tfrec containing 5727 records\n",
            "Wrote file processed_data/tfrec/val_12-5727.tfrec containing 5727 records\n",
            "Wrote file processed_data/tfrec/val_13-5727.tfrec containing 5727 records\n",
            "Wrote file processed_data/tfrec/val_14-5727.tfrec containing 5727 records\n",
            "Wrote file processed_data/tfrec/val_15-5727.tfrec containing 5727 records\n",
            "Wrote file processed_data/tfrec/val_16-5727.tfrec containing 5727 records\n",
            "Wrote file processed_data/tfrec/val_17-5727.tfrec containing 5727 records\n",
            "Wrote file processed_data/tfrec/val_18-5727.tfrec containing 5727 records\n",
            "Wrote file processed_data/tfrec/val_19-5727.tfrec containing 5727 records\n",
            "Wrote file processed_data/tfrec/val_20-5727.tfrec containing 5727 records\n",
            "Wrote file processed_data/tfrec/val_21-5727.tfrec containing 5727 records\n",
            "Wrote file processed_data/tfrec/val_22-5727.tfrec containing 5727 records\n",
            "Wrote file processed_data/tfrec/val_23-5727.tfrec containing 5727 records\n",
            "Wrote file processed_data/tfrec/val_24-5727.tfrec containing 5727 records\n",
            "Wrote file processed_data/tfrec/val_25-5727.tfrec containing 5727 records\n",
            "Wrote file processed_data/tfrec/val_26-5727.tfrec containing 5727 records\n",
            "Wrote file processed_data/tfrec/val_27-5727.tfrec containing 5727 records\n",
            "Wrote file processed_data/tfrec/val_28-5727.tfrec containing 5727 records\n",
            "Wrote file processed_data/tfrec/val_29-5727.tfrec containing 5727 records\n",
            "Wrote file processed_data/tfrec/val_30-5727.tfrec containing 5727 records\n",
            "Wrote file processed_data/tfrec/val_31-5727.tfrec containing 5727 records\n",
            "Wrote file processed_data/tfrec/val_32-5727.tfrec containing 5727 records\n",
            "Wrote file processed_data/tfrec/val_33-5727.tfrec containing 5727 records\n",
            "Wrote file processed_data/tfrec/val_34-5727.tfrec containing 5727 records\n",
            "Wrote file processed_data/tfrec/val_35-5727.tfrec containing 5727 records\n",
            "Wrote file processed_data/tfrec/val_36-5727.tfrec containing 5727 records\n",
            "Wrote file processed_data/tfrec/val_37-5727.tfrec containing 5727 records\n",
            "Wrote file processed_data/tfrec/val_38-5727.tfrec containing 5727 records\n",
            "Wrote file processed_data/tfrec/val_39-5693.tfrec containing 5693 records\n"
          ],
          "name": "stdout"
        }
      ]
    },
    {
      "cell_type": "code",
      "metadata": {
        "id": "Wed_qE3dpiTZ"
      },
      "source": [
        ""
      ],
      "execution_count": null,
      "outputs": []
    }
  ]
}